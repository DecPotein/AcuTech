{
 "cells": [
  {
   "cell_type": "markdown",
   "id": "cfb34d2a",
   "metadata": {},
   "source": [
    "## Package Imports"
   ]
  },
  {
   "cell_type": "code",
   "execution_count": null,
   "id": "f116f446",
   "metadata": {},
   "outputs": [],
   "source": [
    "import pandas as pd\n",
    "import os\n",
    "import librosa\n",
    "\n",
    "import numpy as np\n",
    "from tqdm import tqdm\n",
    "\n",
    "import tensorflow as tf\n",
    "from tensorflow.keras.models import Sequential\n",
    "from tensorflow.keras.layers import Dense, Dropout, Activation, Flatten\n",
    "from tensorflow.keras.optimizers import Adam\n",
    "from sklearn import metrics\n",
    "\n",
    "from keras.models import Sequential\n",
    "from keras.layers import Dense, Dropout, Activation, Flatten\n",
    "from keras.layers import Convolution2D, Conv2D, MaxPooling2D, GlobalAveragePooling2D\n",
    "from keras.optimizers import Adam\n",
    "from keras.utils import np_utils\n",
    "from sklearn import metrics\n",
    "\n",
    "from tensorflow.keras.callbacks import ModelCheckpoint\n",
    "from datetime import datetime"
   ]
  },
  {
   "cell_type": "markdown",
   "id": "95f116f4",
   "metadata": {},
   "source": [
    "## Loading of Dataset & Metadata"
   ]
  },
  {
   "cell_type": "code",
   "execution_count": null,
   "id": "liberal-journalist",
   "metadata": {},
   "outputs": [],
   "source": [
    "# Taga-kuha ng mga audio dataset at metadata\n",
    "audio_dataset_path = 'C:/Users/Jerome/Desktop/Jerome/Programmierung Projekte/Thesis-Projekt/ACS-master-final/backend/data/dataset_train_clean/'\n",
    "metadata = pd.read_csv('C:/Users/Jerome/Desktop/Jerome/Programmierung Projekte/Thesis-Projekt/ACS-master-final/backend/data/metadata_train_clean.csv')"
   ]
  },
  {
   "cell_type": "markdown",
   "id": "d51d13de",
   "metadata": {},
   "source": [
    "## Feature Extraction"
   ]
  },
  {
   "cell_type": "code",
   "execution_count": null,
   "id": "chinese-calendar",
   "metadata": {},
   "outputs": [],
   "source": [
    "# Function para i-extract yung features ng audio\n",
    "def features_extractor(file):\n",
    "    audio, sample_rate = librosa.load(file_name, res_type = 'kaiser_fast') \n",
    "    mfccs_features = librosa.feature.mfcc(y = audio, sr = sample_rate, n_mfcc = 40)\n",
    "    mfccs_scaled_features = np.mean(mfccs_features.T, axis = 0)\n",
    "    \n",
    "    return mfccs_scaled_features"
   ]
  },
  {
   "cell_type": "code",
   "execution_count": null,
   "id": "nuclear-sponsorship",
   "metadata": {},
   "outputs": [],
   "source": [
    "# Iisa-isahin yung mga audio file sa folder at i-e-extract yung features gamit MFCC\n",
    "extracted_features = []\n",
    "for index_num,row in tqdm(metadata.iterrows()):\n",
    "    file_name = os.path.join(os.path.abspath(audio_dataset_path), str(row[\"fileName\"]))\n",
    "    final_class_labels = row[\"className\"]\n",
    "    data = features_extractor(file_name)\n",
    "    extracted_features.append([data, final_class_labels])\n",
    "    \n",
    "# Convert lahat ng features sa Panda dataframe\n",
    "extracted_features_df = pd.DataFrame(extracted_features, columns = ['feature','class'])"
   ]
  },
  {
   "cell_type": "code",
   "execution_count": null,
   "id": "characteristic-sudan",
   "metadata": {},
   "outputs": [],
   "source": [
    "# Taga-split ng dataset sa independent at dependent dataset\n",
    "X = np.array(extracted_features_df['feature'].tolist())\n",
    "y = np.array(extracted_features_df['class'].tolist())\n",
    "\n",
    "# Taga-store ng classes\n",
    "y = np.array(pd.get_dummies(y))\n",
    "\n",
    "# Split yung train_test\n",
    "from sklearn.model_selection import train_test_split\n",
    "X_train, X_test, y_train, y_test = train_test_split(X, y, test_size = 0.2, random_state = 0)"
   ]
  },
  {
   "cell_type": "markdown",
   "id": "express-vessel",
   "metadata": {},
   "source": [
    "## CNN-RF Model"
   ]
  },
  {
   "cell_type": "code",
   "execution_count": null,
   "id": "indonesian-accessory",
   "metadata": {},
   "outputs": [],
   "source": [
    "# Kung ilan yung classes\n",
    "num_labels = y.shape[1]\n",
    "\n",
    "cnnrf = Sequential()\n",
    "\n",
    "# First layer ng model\n",
    "cnnrf.add(Dense(100, input_shape = (40,)))\n",
    "cnnrf.add(Activation('relu'))\n",
    "cnnrf.add(Dropout(0.5))\n",
    "\n",
    "# Second layer ng model\n",
    "cnnrf.add(Dense(200))\n",
    "cnnrf.add(Activation('relu'))\n",
    "cnnrf.add(Dropout(0.5))\n",
    "\n",
    "# Third layer ng model\n",
    "cnnrf.add(Dense(100))\n",
    "cnnrf.add(Activation('relu'))\n",
    "cnnrf.add(Dropout(0.5))\n",
    "\n",
    "# Fourth layer ng model\n",
    "cnnrf.add(Dense(200))\n",
    "cnnrf.add(Activation('relu'))\n",
    "cnnrf.add(Dropout(0.5))\n",
    "\n",
    "# Last layer ng model\n",
    "cnnrf.add(Dense(num_labels))\n",
    "cnnrf.add(Activation('softmax'))\n",
    "\n",
    "cnnrf.compile(loss = 'categorical_crossentropy', metrics = ['accuracy'], optimizer = 'adam')"
   ]
  },
  {
   "cell_type": "markdown",
   "id": "50ca3135",
   "metadata": {},
   "source": [
    "## CNN-RF Training"
   ]
  },
  {
   "cell_type": "code",
   "execution_count": null,
   "id": "alpha-adapter",
   "metadata": {},
   "outputs": [],
   "source": [
    "# Pag-train ng model\n",
    "num_epochs = 110\n",
    "num_batch_size = 64\n",
    "\n",
    "checkpointer = ModelCheckpoint(filepath = 'model_checkpoints/cnnrf-v10.hdf5', \n",
    "                               verbose = 1, save_best_only = True)\n",
    "start = datetime.now()\n",
    "\n",
    "cnnrf.fit(X_train, y_train, batch_size = num_batch_size, epochs = num_epochs, validation_data = (X_test, y_test), callbacks = [checkpointer], verbose = 1)\n",
    "\n",
    "duration = datetime.now() - start\n",
    "print(\"Training duration \", duration)"
   ]
  },
  {
   "cell_type": "code",
   "execution_count": null,
   "id": "virgin-butter",
   "metadata": {},
   "outputs": [],
   "source": [
    "test_accuracy = cnnrf.evaluate(X_train, y_train, verbose = 0)\n",
    "print(\"Primary Training Accuracy: \", test_accuracy[1] * 100, \"%\")\n",
    "\n",
    "test_accuracy = cnnrf.evaluate(X_test, y_test, verbose = 0)\n",
    "print(\"Primary Testing Accuracy: \", test_accuracy[1] * 100, \"%\")"
   ]
  },
  {
   "cell_type": "markdown",
   "id": "43fdefb2",
   "metadata": {},
   "source": [
    "## Anvil Server Connection"
   ]
  },
  {
   "cell_type": "code",
   "execution_count": null,
   "id": "sticky-occasion",
   "metadata": {},
   "outputs": [],
   "source": [
    "import anvil.server\n",
    "\n",
    "#Anvil Direct Link - https://p47ett2nfjlaqqih.anvil.app/3ZRA6CFT35X2P4QOFJI3DGAV\n",
    "anvil.server.connect(\"JOTCSN4YS2NNQR3ZBWJT2GBU-P47ETT2NFJLAQQIH\")"
   ]
  },
  {
   "cell_type": "code",
   "execution_count": null,
   "id": "corporate-venezuela",
   "metadata": {},
   "outputs": [],
   "source": [
    "import anvil.media\n",
    "import anvil.mpl_util\n",
    "from tensorflow.keras.utils import to_categorical\n",
    "from sklearn.preprocessing import LabelEncoder\n",
    "\n",
    "import pandas as pd\n",
    "import numpy as np\n",
    "import matplotlib.pylab as plt\n",
    "import seaborn as sns\n",
    "\n",
    "from glob import glob\n",
    "\n",
    "import librosa\n",
    "import librosa.display\n",
    "import IPython.display as ipd\n",
    "\n",
    "from itertools import cycle\n",
    "\n",
    "@anvil.server.callable\n",
    "def classify_audio(file):\n",
    "    prediction_feature = features_extractor(file)\n",
    "    prediction_feature = prediction_feature.reshape(1, -1)\n",
    "    return cnnrf.predict(prediction_feature)"
   ]
  }
 ],
 "metadata": {
  "kernelspec": {
   "display_name": "Python 3.10.8 64-bit",
   "language": "python",
   "name": "python3"
  },
  "language_info": {
   "codemirror_mode": {
    "name": "ipython",
    "version": 3
   },
   "file_extension": ".py",
   "mimetype": "text/x-python",
   "name": "python",
   "nbconvert_exporter": "python",
   "pygments_lexer": "ipython3",
   "version": "3.10.8"
  },
  "vscode": {
   "interpreter": {
    "hash": "438d67235aeee2b8696b3da762607795780e379b31b02f6127c7d3d84ea8b479"
   }
  }
 },
 "nbformat": 4,
 "nbformat_minor": 5
}
